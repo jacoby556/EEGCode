{
 "cells": [
  {
   "cell_type": "code",
   "execution_count": 2,
   "metadata": {},
   "outputs": [],
   "source": [
    "import pandas as pd\n",
    "import plotly.express as px\n",
    "import os, sys\n",
    "import glob"
   ]
  },
  {
   "cell_type": "code",
   "execution_count": 16,
   "metadata": {},
   "outputs": [
    {
     "ename": "AttributeError",
     "evalue": "module 'sys' has no attribute 'blink'",
     "output_type": "error",
     "traceback": [
      "\u001b[1;31m---------------------------------------------------------------------------\u001b[0m",
      "\u001b[1;31mAttributeError\u001b[0m                            Traceback (most recent call last)",
      "\u001b[1;32mc:\\Users\\jacob\\OneDrive\\Desktop\\EEGCode\\EEGCode.ipynb Cell 2\u001b[0m line \u001b[0;36m4\n\u001b[0;32m      <a href='vscode-notebook-cell:/c%3A/Users/jacob/OneDrive/Desktop/EEGCode/EEGCode.ipynb#W1sZmlsZQ%3D%3D?line=0'>1</a>\u001b[0m \u001b[39m#jacob's folder\u001b[39;00m\n\u001b[0;32m      <a href='vscode-notebook-cell:/c%3A/Users/jacob/OneDrive/Desktop/EEGCode/EEGCode.ipynb#W1sZmlsZQ%3D%3D?line=1'>2</a>\u001b[0m rootdir \u001b[39m=\u001b[39m \u001b[39m'\u001b[39m\u001b[39mC:/Users/jacob/OneDrive/Desktop/EEGCode/Database_Senior_Project/Jacob\u001b[39m\u001b[39m'\u001b[39m\n\u001b[1;32m----> <a href='vscode-notebook-cell:/c%3A/Users/jacob/OneDrive/Desktop/EEGCode/EEGCode.ipynb#W1sZmlsZQ%3D%3D?line=3'>4</a>\u001b[0m \u001b[39mfor\u001b[39;00m subdir, dirs, files \u001b[39min\u001b[39;00m sys\u001b[39m.\u001b[39;49mblink(rootdir):\n\u001b[0;32m      <a href='vscode-notebook-cell:/c%3A/Users/jacob/OneDrive/Desktop/EEGCode/EEGCode.ipynb#W1sZmlsZQ%3D%3D?line=4'>5</a>\u001b[0m     \u001b[39mfor\u001b[39;00m file \u001b[39min\u001b[39;00m files:\n\u001b[0;32m      <a href='vscode-notebook-cell:/c%3A/Users/jacob/OneDrive/Desktop/EEGCode/EEGCode.ipynb#W1sZmlsZQ%3D%3D?line=5'>6</a>\u001b[0m         \u001b[39mprint\u001b[39m(sys\u001b[39m.\u001b[39mpath\u001b[39m.\u001b[39mjoin(subdir, file))\n",
      "\u001b[1;31mAttributeError\u001b[0m: module 'sys' has no attribute 'blink'"
     ]
    }
   ],
   "source": [
    "#jacob's folder\n",
    "rootdir = 'C:/Users/jacob/OneDrive/Desktop/EEGCode/Database_Senior_Project/Jacob'\n",
    "\n",
    "for subdir, dirs, files in sys.blink(rootdir):\n",
    "    for file in files:\n",
    "        print(sys.path.join(subdir, file))"
   ]
  }
 ],
 "metadata": {
  "kernelspec": {
   "display_name": "Python 3",
   "language": "python",
   "name": "python3"
  },
  "language_info": {
   "codemirror_mode": {
    "name": "ipython",
    "version": 3
   },
   "file_extension": ".py",
   "mimetype": "text/x-python",
   "name": "python",
   "nbconvert_exporter": "python",
   "pygments_lexer": "ipython3",
   "version": "3.11.5"
  },
  "orig_nbformat": 4
 },
 "nbformat": 4,
 "nbformat_minor": 2
}
